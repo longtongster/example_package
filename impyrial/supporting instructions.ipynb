{
 "cells": [
  {
   "cell_type": "markdown",
   "id": "3e758263",
   "metadata": {},
   "source": [
    "### importing the package"
   ]
  },
  {
   "cell_type": "markdown",
   "id": "a230115e",
   "metadata": {},
   "source": [
    "if you have not installed `impyrial` as a package then you can only import the package at this level in the directory structur"
   ]
  },
  {
   "cell_type": "code",
   "execution_count": 1,
   "id": "743fc477",
   "metadata": {},
   "outputs": [
    {
     "name": "stdout",
     "output_type": "stream",
     "text": [
      "Help on function convert_unit in module impyrial.length.api:\n",
      "\n",
      "convert_unit(x, from_unit, to_unit)\n",
      "    Convert from one length unit to another.\n",
      "    \n",
      "    Parameters\n",
      "    ----------\n",
      "    x : array_like\n",
      "        Lengths to convert.\n",
      "    from_unit : {'in', 'ft', 'yd'}\n",
      "        Unit of the input lengths `x`\n",
      "    to_unit : {'in', 'ft', 'yd'}\n",
      "        Unit of the returned lengths\n",
      "    \n",
      "    Returns\n",
      "    -------\n",
      "    ndarray\n",
      "        An array of converted lengths with the same shape as `x`. If `x` is a\n",
      "        0-d array, then a scalar is returned.\n",
      "\n",
      "None\n"
     ]
    },
    {
     "data": {
      "text/plain": [
       "3.0"
      ]
     },
     "execution_count": 1,
     "metadata": {},
     "output_type": "execute_result"
    }
   ],
   "source": [
    "import impyrial\n",
    "\n",
    "print(help(impyrial.length.convert_unit))\n",
    "\n",
    "impyrial.length.convert_unit(9,'ft','yd')"
   ]
  },
  {
   "cell_type": "markdown",
   "id": "b9c6e69b",
   "metadata": {},
   "source": [
    "### install impyrial\n",
    "\n",
    "Install the `impyrial` package in editable model"
   ]
  },
  {
   "cell_type": "code",
   "execution_count": 9,
   "id": "8ff9d4f5",
   "metadata": {},
   "outputs": [
    {
     "data": {
      "text/plain": [
       "['.ipynb_checkpoints',\n",
       " 'example_script.ipynb',\n",
       " 'impyrial',\n",
       " 'impyrial.egg-info',\n",
       " 'LICENSE',\n",
       " 'MANIFEST.in',\n",
       " 'REAMDE.md',\n",
       " 'requirements.txt',\n",
       " 'setup.py']"
      ]
     },
     "execution_count": 9,
     "metadata": {},
     "output_type": "execute_result"
    }
   ],
   "source": [
    "import os\n",
    "os.listdir()"
   ]
  },
  {
   "cell_type": "markdown",
   "id": "1f81b73c",
   "metadata": {},
   "source": [
    "The `setup.py` should aim to include as many possible version of packages that allow correct working.\n",
    "\n",
    "You should use the `requirements.txt` to exactly reproduce your enviroment so that developers can replicate this when working on it."
   ]
  },
  {
   "cell_type": "markdown",
   "id": "cee398fb",
   "metadata": {},
   "source": [
    "don't forget the dot"
   ]
  },
  {
   "cell_type": "code",
   "execution_count": 3,
   "id": "87b6b285",
   "metadata": {},
   "outputs": [
    {
     "name": "stdout",
     "output_type": "stream",
     "text": [
      "Obtaining file:///C:/Users/sacha/python%20files/example_package/impyrial\n",
      "  Preparing metadata (setup.py): started\n",
      "  Preparing metadata (setup.py): finished with status 'done'\n",
      "Requirement already satisfied: numpy>=1.10 in c:\\users\\sacha\\anaconda3\\envs\\py39\\lib\\site-packages (from impyrial==0.1.0) (1.26.0)\n",
      "Requirement already satisfied: pandas in c:\\users\\sacha\\anaconda3\\envs\\py39\\lib\\site-packages (from impyrial==0.1.0) (2.1.1)\n",
      "Requirement already satisfied: python-dateutil>=2.8.2 in c:\\users\\sacha\\anaconda3\\envs\\py39\\lib\\site-packages (from pandas->impyrial==0.1.0) (2.8.2)\n",
      "Requirement already satisfied: pytz>=2020.1 in c:\\users\\sacha\\anaconda3\\envs\\py39\\lib\\site-packages (from pandas->impyrial==0.1.0) (2023.3.post1)\n",
      "Requirement already satisfied: tzdata>=2022.1 in c:\\users\\sacha\\anaconda3\\envs\\py39\\lib\\site-packages (from pandas->impyrial==0.1.0) (2023.3)\n",
      "Requirement already satisfied: six>=1.5 in c:\\users\\sacha\\anaconda3\\envs\\py39\\lib\\site-packages (from python-dateutil>=2.8.2->pandas->impyrial==0.1.0) (1.16.0)\n",
      "Installing collected packages: impyrial\n",
      "  Attempting uninstall: impyrial\n",
      "    Found existing installation: impyrial 0.1.0\n",
      "    Uninstalling impyrial-0.1.0:\n",
      "      Successfully uninstalled impyrial-0.1.0\n",
      "  Running setup.py develop for impyrial\n",
      "Successfully installed impyrial-0.1.0\n"
     ]
    }
   ],
   "source": [
    "!pip install -e ."
   ]
  },
  {
   "cell_type": "markdown",
   "id": "8ff86b58",
   "metadata": {},
   "source": [
    "### create an requirements.txt\n",
    "\n",
    "using `pip freeze > requirements.txt` in an anaconda enironment gives you a useless requirements.txt`"
   ]
  },
  {
   "cell_type": "code",
   "execution_count": 6,
   "id": "48eeb84c",
   "metadata": {},
   "outputs": [
    {
     "name": "stdout",
     "output_type": "stream",
     "text": [
      "aiofiles @ file:///C:/b/abs_9ex6mi6b56/croot/aiofiles_1683773603390/work\n",
      "aiosqlite @ file:///C:/b/abs_9djc_0pyi3/croot/aiosqlite_1683773915844/work\n",
      "anyio @ file:///C:/ci/anyio_1644481921011/work/dist\n",
      "argon2-cffi @ file:///opt/conda/conda-bld/argon2-cffi_1645000214183/work\n",
      "argon2-cffi-bindings @ file:///C:/ci/argon2-cffi-bindings_1644551690056/work\n",
      "asttokens @ file:///opt/conda/conda-bld/asttokens_1646925590279/work\n",
      "attrs @ file:///C:/b/abs_35n0jusce8/croot/attrs_1695717880170/work\n",
      "awscli @ file:///D:/bld/awscli_1699042861095/work\n",
      "awscrt @ file:///D:/bld/awscrt_1699361418454/work\n",
      "Babel @ file:///C:/b/abs_a2shv_3tqi/croot/babel_1671782804377/work\n",
      "backcall @ file:///home/ktietz/src/ci/backcall_1611930011877/work\n",
      "backports.functools-lru-cache @ file:///home/conda/feedstock_root/build_artifacts/backports.functools_lru_cache_1687772187254/work\n",
      "beautifulsoup4 @ file:///C:/b/abs_0agyz1wsr4/croot/beautifulsoup4-split_1681493048687/work\n",
      "bleach @ file:///opt/conda/conda-bld/bleach_1641577558959/work\n",
      "boto3 @ file:///C:/b/abs_1a4ezvdsko/croot/boto3_1693812522538/work\n",
      "botocore @ file:///C:/b/abs_01gwdn34ju/croot/botocore_1682528022942/work\n",
      "Bottleneck @ file:///C:/Windows/Temp/abs_3198ca53-903d-42fd-87b4-03e6d03a8381yfwsuve8/croots/recipe/bottleneck_1657175565403/work\n",
      "Brotli @ file:///C:/Windows/Temp/abs_63l7912z0e/croots/recipe/brotli-split_1659616056886/work\n",
      "certifi @ file:///home/conda/feedstock_root/build_artifacts/certifi_1700303426725/work/certifi\n",
      "cffi @ file:///C:/b/abs_49n3v2hyhr/croot/cffi_1670423218144/work\n",
      "charset-normalizer @ file:///tmp/build/80754af9/charset-normalizer_1630003229654/work\n",
      "colorama @ file:///home/conda/feedstock_root/build_artifacts/colorama_1666700638685/work\n",
      "comm @ file:///C:/b/abs_1419earm7u/croot/comm_1671231131638/work\n",
      "contourpy @ file:///C:/b/abs_d5rpy288vc/croots/recipe/contourpy_1663827418189/work\n",
      "cryptography @ file:///D:/bld/cryptography_1637687384130/work\n",
      "cycler @ file:///tmp/build/80754af9/cycler_1637851556182/work\n",
      "debugpy @ file:///C:/b/abs_c0y1fjipt2/croot/debugpy_1690906864587/work\n",
      "decorator @ file:///opt/conda/conda-bld/decorator_1643638310831/work\n",
      "defusedxml @ file:///tmp/build/80754af9/defusedxml_1615228127516/work\n",
      "distro @ file:///home/conda/feedstock_root/build_artifacts/distro_1675116244235/work\n",
      "docutils @ file:///D:/bld/docutils_1666755090587/work\n",
      "entrypoints @ file:///C:/ci/entrypoints_1649926621128/work\n",
      "exceptiongroup @ file:///C:/b/abs_25wqfvkf25/croot/exceptiongroup_1668714345637/work\n",
      "executing @ file:///opt/conda/conda-bld/executing_1646925071911/work\n",
      "fastjsonschema @ file:///C:/Users/BUILDE~1/AppData/Local/Temp/abs_ebruxzvd08/croots/recipe/python-fastjsonschema_1661376484940/work\n",
      "fonttools==4.25.0\n",
      "idna @ file:///C:/b/abs_bdhbebrioa/croot/idna_1666125572046/work\n",
      "importlib-metadata @ file:///C:/b/abs_20ndzb2j6v/croot/importlib-metadata_1678997085534/work\n",
      "importlib-resources @ file:///C:/b/abs_9d6rmtszbl/croot/importlib_resources_1698254653090/work\n",
      "# Editable install with no version control (impyrial==0.1.0)\n",
      "-e c:\\users\\sacha\\python files\\example_package\\impyrial\n",
      "ipykernel @ file:///C:/b/abs_07rkft_vaz/croot/ipykernel_1691121700587/work\n",
      "ipython @ file:///C:/b/abs_e5729i179y/croot/ipython_1694181400005/work\n",
      "ipython-genutils @ file:///tmp/build/80754af9/ipython_genutils_1606773439826/work\n",
      "ipywidgets @ file:///C:/b/abs_5awapknmz_/croot/ipywidgets_1679394824767/work\n",
      "jedi @ file:///C:/ci/jedi_1644315428289/work\n",
      "Jinja2 @ file:///C:/b/abs_7cdis66kl9/croot/jinja2_1666908141852/work\n",
      "jmespath @ file:///Users/ktietz/demo/mc3/conda-bld/jmespath_1630583964805/work\n",
      "json5 @ file:///tmp/build/80754af9/json5_1624432770122/work\n",
      "jsonschema @ file:///C:/b/abs_d1c4sm8drk/croot/jsonschema_1699041668863/work\n",
      "jsonschema-specifications @ file:///C:/b/abs_0brvm6vryw/croot/jsonschema-specifications_1699032417323/work\n",
      "jupyter @ file:///C:/Windows/TEMP/abs_56xfdi__li/croots/recipe/jupyter_1659349053177/work\n",
      "jupyter-console @ file:///C:/b/abs_82xaa6i2y4/croot/jupyter_console_1680000189372/work\n",
      "jupyter-events @ file:///C:/b/abs_17ajfqnlz0/croot/jupyter_events_1699282519713/work\n",
      "jupyter-server @ file:///C:/b/abs_1cfi3__jl8/croot/jupyter_server_1671707636383/work\n",
      "jupyter-ydoc @ file:///C:/b/abs_e7m6nh5lao/croot/jupyter_ydoc_1683747253535/work\n",
      "jupyter_client @ file:///C:/b/abs_d8fk_kz9zk/croot/jupyter_client_1676330195659/work\n",
      "jupyter_core @ file:///C:/b/abs_c769pbqg9b/croot/jupyter_core_1698937367513/work\n",
      "jupyter_server_fileid @ file:///C:/b/abs_f1yjnmiq_6/croot/jupyter_server_fileid_1684273602142/work\n",
      "jupyter_server_ydoc @ file:///C:/b/abs_8ai39bligw/croot/jupyter_server_ydoc_1686767445888/work\n",
      "jupyterlab @ file:///C:/b/abs_c1msr8zz3y/croot/jupyterlab_1686179674844/work\n",
      "jupyterlab-pygments @ file:///tmp/build/80754af9/jupyterlab_pygments_1601490720602/work\n",
      "jupyterlab-widgets @ file:///C:/b/abs_38ad427jkz/croot/jupyterlab_widgets_1679055289211/work\n",
      "jupyterlab_server @ file:///C:/b/abs_e0qqsihjvl/croot/jupyterlab_server_1680792526136/work\n",
      "kiwisolver @ file:///C:/b/abs_88mdhvtahm/croot/kiwisolver_1672387921783/work\n",
      "MarkupSafe @ file:///C:/ci/markupsafe_1654508077284/work\n",
      "matplotlib @ file:///C:/b/abs_e26vnvd5s1/croot/matplotlib-suite_1698692153288/work\n",
      "matplotlib-inline @ file:///C:/ci/matplotlib-inline_1661915841596/work\n",
      "mistune @ file:///C:/Users/BUILDE~1/AppData/Local/Temp/abs_081kimkskf/croots/recipe/mistune_1661496225923/work\n",
      "mkl-fft @ file:///C:/b/abs_19i1y8ykas/croot/mkl_fft_1695058226480/work\n",
      "mkl-random @ file:///C:/b/abs_edwkj1_o69/croot/mkl_random_1695059866750/work\n",
      "mkl-service==2.4.0\n",
      "munkres==1.1.4\n",
      "nbclassic @ file:///C:/b/abs_c8_rs7b3zw/croot/nbclassic_1681756186106/work\n",
      "nbclient @ file:///C:/b/abs_cal0q5fyju/croot/nbclient_1698934263135/work\n",
      "nbconvert @ file:///C:/b/abs_17p29f_rx4/croot/nbconvert_1699022793097/work\n",
      "nbformat @ file:///C:/b/abs_5a2nea1iu2/croot/nbformat_1694616866197/work\n",
      "nest-asyncio @ file:///C:/b/abs_3a_4jsjlqu/croot/nest-asyncio_1672387322800/work\n",
      "notebook @ file:///C:/b/abs_e2qn6c85jb/croot/notebook_1690985290943/work\n",
      "notebook_shim @ file:///C:/b/abs_ebfczttg6x/croot/notebook-shim_1668160590914/work\n",
      "numexpr @ file:///C:/b/abs_5fucrty5dc/croot/numexpr_1696515448831/work\n",
      "numpy @ file:///C:/b/abs_9fu2cs2527/croot/numpy_and_numpy_base_1695830496596/work/dist/numpy-1.26.0-cp39-cp39-win_amd64.whl#sha256=9df7f35b8a04328650588772e3df359b51f1e83651ab665c98af9dbcf9a088c2\n",
      "packaging @ file:///C:/b/abs_28t5mcoltc/croot/packaging_1693575224052/work\n",
      "pandas @ file:///C:/b/abs_81b3npjrl8/croot/pandas_1697477219064/work/dist/pandas-2.1.1-cp39-cp39-win_amd64.whl#sha256=52f4b2edc1ff7d4ab3efc3bc5744e39c3cdbd6d723393d35fe439f4e139fde7a\n",
      "pandocfilters @ file:///opt/conda/conda-bld/pandocfilters_1643405455980/work\n",
      "parso @ file:///opt/conda/conda-bld/parso_1641458642106/work\n",
      "pickleshare @ file:///tmp/build/80754af9/pickleshare_1606932040724/work\n",
      "Pillow @ file:///C:/b/abs_20ztcm8lgk/croot/pillow_1696580089746/work\n",
      "platformdirs @ file:///C:/b/abs_b6z_yqw_ii/croot/platformdirs_1692205479426/work\n",
      "ply==3.11\n",
      "prometheus-client @ file:///C:/Windows/TEMP/abs_ab9nx8qb08/croots/recipe/prometheus_client_1659455104602/work\n",
      "prompt-toolkit @ file:///home/conda/feedstock_root/build_artifacts/prompt-toolkit_1670414775770/work\n",
      "psutil @ file:///C:/Windows/Temp/abs_b2c2fd7f-9fd5-4756-95ea-8aed74d0039flsd9qufz/croots/recipe/psutil_1656431277748/work\n",
      "pure-eval @ file:///opt/conda/conda-bld/pure_eval_1646925070566/work\n",
      "pycparser @ file:///tmp/build/80754af9/pycparser_1636541352034/work\n",
      "Pygments @ file:///C:/b/abs_fay9dpq4n_/croot/pygments_1684279990574/work\n",
      "Pyment @ file:///home/conda/feedstock_root/build_artifacts/pyment_1626811170832/work\n",
      "pyOpenSSL @ file:///home/conda/feedstock_root/build_artifacts/pyopenssl_1608055815057/work\n",
      "pyparsing @ file:///C:/Users/BUILDE~1/AppData/Local/Temp/abs_7f_7lba6rl/croots/recipe/pyparsing_1661452540662/work\n",
      "PyQt5==5.15.10\n",
      "PyQt5-sip @ file:///C:/b/abs_c0pi2mimq3/croot/pyqt-split_1698769125270/work/pyqt_sip\n",
      "PySocks @ file:///C:/ci/pysocks_1605307512533/work\n",
      "python-dateutil @ file:///tmp/build/80754af9/python-dateutil_1626374649649/work\n",
      "python-json-logger @ file:///C:/b/abs_cblnsm6puj/croot/python-json-logger_1683824130469/work\n",
      "pytz @ file:///C:/b/abs_19q3ljkez4/croot/pytz_1695131651401/work\n",
      "pywin32==305.1\n",
      "pywinpty @ file:///C:/b/abs_73vshmevwq/croot/pywinpty_1677609966356/work/target/wheels/pywinpty-2.0.10-cp39-none-win_amd64.whl\n",
      "PyYAML @ file:///C:/b/abs_782o3mbw7z/croot/pyyaml_1698096085010/work\n",
      "pyzmq @ file:///C:/ci/pyzmq_1657615952984/work\n",
      "qtconsole @ file:///C:/b/abs_eb4u9jg07y/croot/qtconsole_1681402843494/work\n",
      "QtPy @ file:///C:/ci/qtpy_1662015096047/work\n",
      "referencing @ file:///C:/b/abs_09f4hj6adf/croot/referencing_1699012097448/work\n",
      "requests @ file:///C:/b/abs_316c2inijk/croot/requests_1690400295842/work\n",
      "rfc3339-validator @ file:///C:/b/abs_ddfmseb_vm/croot/rfc3339-validator_1683077054906/work\n",
      "rfc3986-validator @ file:///C:/b/abs_6e9azihr8o/croot/rfc3986-validator_1683059049737/work\n",
      "rpds-py @ file:///C:/b/abs_76j4g4la23/croot/rpds-py_1698947348047/work\n",
      "ruamel.yaml @ file:///D:/bld/ruamel.yaml_1678273159970/work\n",
      "ruamel.yaml.clib @ file:///D:/bld/ruamel.yaml.clib_1695997031401/work\n",
      "s3transfer @ file:///C:/ci/s3transfer_1654512518418/work\n",
      "seaborn @ file:///C:/b/abs_68ltdkoyoo/croot/seaborn_1673479199997/work\n",
      "Send2Trash @ file:///tmp/build/80754af9/send2trash_1632406701022/work\n",
      "sip @ file:///C:/b/abs_edevan3fce/croot/sip_1698675983372/work\n",
      "six @ file:///tmp/build/80754af9/six_1644875935023/work\n",
      "sniffio @ file:///C:/ci/sniffio_1614030527509/work\n",
      "soupsieve @ file:///C:/b/abs_bbsvy9t4pl/croot/soupsieve_1696347611357/work\n",
      "stack-data @ file:///opt/conda/conda-bld/stack_data_1646927590127/work\n",
      "terminado @ file:///C:/b/abs_25nakickad/croot/terminado_1671751845491/work\n",
      "tinycss2 @ file:///C:/b/abs_52w5vfuaax/croot/tinycss2_1668168823131/work\n",
      "tomli @ file:///C:/Windows/TEMP/abs_ac109f85-a7b3-4b4d-bcfd-52622eceddf0hy332ojo/croots/recipe/tomli_1657175513137/work\n",
      "tornado @ file:///C:/b/abs_0cbrstidzg/croot/tornado_1696937003724/work\n",
      "traitlets @ file:///C:/b/abs_e5m_xjjl94/croot/traitlets_1671143896266/work\n",
      "typing_extensions @ file:///C:/b/abs_213vg2cd1l/croot/typing_extensions_1690297804941/work\n",
      "tzdata @ file:///croot/python-tzdata_1690578112552/work\n",
      "urllib3 @ file:///C:/b/abs_9cmlsrm3ys/croot/urllib3_1698257595508/work\n",
      "wcwidth @ file:///home/conda/feedstock_root/build_artifacts/wcwidth_1698744702785/work\n",
      "webencodings==0.5.1\n",
      "websocket-client @ file:///C:/ci/websocket-client_1614804375980/work\n",
      "widgetsnbextension @ file:///C:/b/abs_882k4_4kdf/croot/widgetsnbextension_1679313880295/work\n",
      "win-inet-pton @ file:///C:/ci/win_inet_pton_1605306162074/work\n",
      "y-py @ file:///C:/b/abs_b7f5go6r0j/croot/y-py_1683662173571/work\n",
      "ypy-websocket @ file:///C:/b/abs_4e65ywlnv8/croot/ypy-websocket_1684172103529/work\n",
      "zipp @ file:///C:/b/abs_b9jfdr908q/croot/zipp_1672387552360/work\n"
     ]
    }
   ],
   "source": [
    "!pip freeze"
   ]
  },
  {
   "cell_type": "markdown",
   "id": "3ee6b7b7",
   "metadata": {},
   "source": [
    "I found the following command on internet that seems to work quite well"
   ]
  },
  {
   "cell_type": "code",
   "execution_count": 7,
   "id": "67deef56",
   "metadata": {},
   "outputs": [
    {
     "name": "stdout",
     "output_type": "stream",
     "text": [
      "aiofiles==22.1.0\n",
      "aiosqlite==0.18.0\n",
      "anyio==3.5.0\n",
      "argon2-cffi==21.3.0\n",
      "argon2-cffi-bindings==21.2.0\n",
      "asttokens==2.0.5\n",
      "attrs==23.1.0\n",
      "awscli==2.13.32\n",
      "awscrt==0.19.6\n",
      "Babel==2.11.0\n",
      "backcall==0.2.0\n",
      "backports.functools-lru-cache==1.6.5\n",
      "beautifulsoup4==4.12.2\n",
      "bleach==4.1.0\n",
      "boto3==1.26.76\n",
      "botocore==1.29.76\n",
      "Bottleneck==1.3.5\n",
      "Brotli==1.0.9\n",
      "certifi==2023.11.17\n",
      "cffi==1.15.1\n",
      "charset-normalizer==2.0.4\n",
      "colorama==0.4.6\n",
      "comm==0.1.2\n",
      "contourpy==1.0.5\n",
      "cryptography==3.4.8\n",
      "cycler==0.11.0\n",
      "debugpy==1.6.7\n",
      "decorator==5.1.1\n",
      "defusedxml==0.7.1\n",
      "distro==1.8.0\n",
      "docutils==0.19\n",
      "entrypoints==0.4\n",
      "exceptiongroup==1.0.4\n",
      "executing==0.8.3\n",
      "fastjsonschema==2.16.2\n",
      "fonttools==4.25.0\n",
      "idna==3.4\n",
      "importlib-metadata==6.0.0\n",
      "importlib-resources==6.1.0\n",
      "impyrial==0.1.0\n",
      "ipykernel==6.25.0\n",
      "ipython==8.15.0\n",
      "ipython-genutils==0.2.0\n",
      "ipywidgets==8.0.4\n",
      "jedi==0.18.1\n",
      "Jinja2==3.1.2\n",
      "jmespath==0.10.0\n",
      "json5==0.9.6\n",
      "jsonschema==4.19.2\n",
      "jsonschema-specifications==2023.7.1\n",
      "jupyter==1.0.0\n",
      "jupyter_client==7.4.9\n",
      "jupyter-console==6.6.3\n",
      "jupyter_core==5.5.0\n",
      "jupyter-events==0.8.0\n",
      "jupyter-server==1.23.4\n",
      "jupyter_server_fileid==0.9.0\n",
      "jupyter_server_ydoc==0.8.0\n",
      "jupyter-ydoc==0.2.4\n",
      "jupyterlab==3.6.3\n",
      "jupyterlab-pygments==0.1.2\n",
      "jupyterlab_server==2.22.0\n",
      "jupyterlab-widgets==3.0.5\n",
      "kiwisolver==1.4.4\n",
      "MarkupSafe==2.1.1\n",
      "matplotlib==3.8.0\n",
      "matplotlib-inline==0.1.6\n",
      "mistune==2.0.4\n",
      "mkl-fft==1.3.8\n",
      "mkl-random==1.2.4\n",
      "mkl-service==2.4.0\n",
      "munkres==1.1.4\n",
      "nbclassic==0.5.5\n",
      "nbclient==0.8.0\n",
      "nbconvert==7.10.0\n",
      "nbformat==5.9.2\n",
      "nest-asyncio==1.5.6\n",
      "notebook==6.5.4\n",
      "notebook_shim==0.2.2\n",
      "numexpr==2.8.7\n",
      "numpy==1.26.0\n",
      "packaging==23.1\n",
      "pandas==2.1.1\n",
      "pandocfilters==1.5.0\n",
      "parso==0.8.3\n",
      "pickleshare==0.7.5\n",
      "Pillow==10.0.1\n",
      "pip==23.3\n",
      "platformdirs==3.10.0\n",
      "ply==3.11\n",
      "prometheus-client==0.14.1\n",
      "prompt-toolkit==3.0.36\n",
      "psutil==5.9.0\n",
      "pure-eval==0.2.2\n",
      "pycparser==2.21\n",
      "Pygments==2.15.1\n",
      "Pyment==0.3.3\n",
      "pyOpenSSL==20.0.1\n",
      "pyparsing==3.0.9\n",
      "PyQt5==5.15.10\n",
      "PyQt5-sip==12.13.0\n",
      "PySocks==1.7.1\n",
      "python-dateutil==2.8.2\n",
      "python-json-logger==2.0.7\n",
      "pytz==2023.3.post1\n",
      "pywin32==305.1\n",
      "pywinpty==2.0.10\n",
      "PyYAML==6.0.1\n",
      "pyzmq==23.2.0\n",
      "qtconsole==5.4.2\n",
      "QtPy==2.2.0\n",
      "referencing==0.30.2\n",
      "requests==2.31.0\n",
      "rfc3339-validator==0.1.4\n",
      "rfc3986-validator==0.1.1\n",
      "rpds-py==0.10.6\n",
      "ruamel.yaml==0.17.21\n",
      "ruamel.yaml.clib==0.2.7\n",
      "s3transfer==0.6.0\n",
      "seaborn==0.12.2\n",
      "Send2Trash==1.8.0\n",
      "setuptools==68.0.0\n",
      "sip==6.7.12\n",
      "six==1.16.0\n",
      "sniffio==1.2.0\n",
      "soupsieve==2.5\n",
      "stack-data==0.2.0\n",
      "terminado==0.17.1\n",
      "tinycss2==1.2.1\n",
      "tomli==2.0.1\n",
      "tornado==6.3.3\n",
      "traitlets==5.7.1\n",
      "typing_extensions==4.7.1\n",
      "tzdata==2023.3\n",
      "urllib3==1.26.18\n",
      "wcwidth==0.2.9\n",
      "webencodings==0.5.1\n",
      "websocket-client==0.58.0\n",
      "wheel==0.41.2\n",
      "widgetsnbextension==4.0.5\n",
      "win-inet-pton==1.1.0\n",
      "y-py==0.5.9\n",
      "ypy-websocket==0.8.2\n",
      "zipp==3.11.0\n"
     ]
    }
   ],
   "source": [
    "!pip list --format=freeze"
   ]
  },
  {
   "cell_type": "code",
   "execution_count": 8,
   "id": "6403ccfa",
   "metadata": {},
   "outputs": [],
   "source": [
    "# so use \n",
    "!pip list --format=freeze > requirements.txt"
   ]
  },
  {
   "cell_type": "code",
   "execution_count": 21,
   "id": "19783931",
   "metadata": {},
   "outputs": [
    {
     "name": "stdout",
     "output_type": "stream",
     "text": [
      "aiofiles==22.1.0\n",
      "aiosqlite==0.18.0\n",
      "anyio==3.5.0\n",
      "argon2-cffi==21.3.0\n",
      "argon2-cffi-bindings==21.2.0\n",
      "asttokens==2.0.5\n",
      "attrs==23.1.0\n",
      "awscli==2.13.32\n"
     ]
    }
   ],
   "source": [
    "#print a few packages\n",
    "with open('requirements.txt','r') as f:\n",
    "    for i in range(8):\n",
    "        line = f.readline()\n",
    "        print(line, end=\"\")\n"
   ]
  },
  {
   "cell_type": "raw",
   "id": "262ee80c",
   "metadata": {},
   "source": [
    "# use this command to install the packages\n",
    "pip install -r requirements.txt"
   ]
  },
  {
   "cell_type": "markdown",
   "id": "2e79816e",
   "metadata": {},
   "source": [
    "### Setup a distrubtion\n",
    "\n",
    "To create a soure distribution (sdist) and a wheel distribution (bdist_wheel). This will create a `dist` directory with the distributions inside"
   ]
  },
  {
   "cell_type": "code",
   "execution_count": 4,
   "id": "9330470c",
   "metadata": {},
   "outputs": [
    {
     "name": "stdout",
     "output_type": "stream",
     "text": [
      "running sdist\n",
      "running egg_info\n",
      "creating impyrial.egg-info\n",
      "writing impyrial.egg-info\\PKG-INFO\n",
      "writing dependency_links to impyrial.egg-info\\dependency_links.txt\n",
      "writing top-level names to impyrial.egg-info\\top_level.txt\n",
      "writing manifest file 'impyrial.egg-info\\SOURCES.txt'\n",
      "reading manifest file 'impyrial.egg-info\\SOURCES.txt'\n",
      "reading manifest template 'MANIFEST.in'\n",
      "adding license file 'LICENSE'\n",
      "writing manifest file 'impyrial.egg-info\\SOURCES.txt'\n",
      "running check\n",
      "creating impyrial-0.1.0\n",
      "creating impyrial-0.1.0\\impyrial\n",
      "creating impyrial-0.1.0\\impyrial.egg-info\n",
      "creating impyrial-0.1.0\\impyrial\\length\n",
      "creating impyrial-0.1.0\\impyrial\\weight\n",
      "copying files to impyrial-0.1.0...\n",
      "copying LICENSE -> impyrial-0.1.0\n",
      "copying MANIFEST.in -> impyrial-0.1.0\n",
      "copying README.md -> impyrial-0.1.0\n",
      "copying setup.cfg -> impyrial-0.1.0\n",
      "copying setup.py -> impyrial-0.1.0\n",
      "copying impyrial\\__init__.py -> impyrial-0.1.0\\impyrial\n",
      "copying impyrial\\utils.py -> impyrial-0.1.0\\impyrial\n",
      "copying impyrial.egg-info\\PKG-INFO -> impyrial-0.1.0\\impyrial.egg-info\n",
      "copying impyrial.egg-info\\SOURCES.txt -> impyrial-0.1.0\\impyrial.egg-info\n",
      "copying impyrial.egg-info\\dependency_links.txt -> impyrial-0.1.0\\impyrial.egg-info\n",
      "copying impyrial.egg-info\\top_level.txt -> impyrial-0.1.0\\impyrial.egg-info\n",
      "copying impyrial\\length\\__init__.py -> impyrial-0.1.0\\impyrial\\length\n",
      "copying impyrial\\length\\api.py -> impyrial-0.1.0\\impyrial\\length\n",
      "copying impyrial\\length\\core.py -> impyrial-0.1.0\\impyrial\\length\n",
      "copying impyrial\\weight\\__init__.py -> impyrial-0.1.0\\impyrial\\weight\n",
      "copying impyrial\\weight\\api.py -> impyrial-0.1.0\\impyrial\\weight\n",
      "copying impyrial\\weight\\core.py -> impyrial-0.1.0\\impyrial\\weight\n",
      "Writing impyrial-0.1.0\\setup.cfg\n",
      "creating dist\n",
      "Creating tar archive\n",
      "removing 'impyrial-0.1.0' (and everything under it)\n",
      "running bdist_wheel\n",
      "running build\n",
      "running build_py\n",
      "creating build\n",
      "creating build\\lib\n",
      "creating build\\lib\\impyrial\n",
      "copying impyrial\\utils.py -> build\\lib\\impyrial\n",
      "copying impyrial\\__init__.py -> build\\lib\\impyrial\n",
      "creating build\\lib\\impyrial\\length\n",
      "copying impyrial\\length\\api.py -> build\\lib\\impyrial\\length\n",
      "copying impyrial\\length\\core.py -> build\\lib\\impyrial\\length\n",
      "copying impyrial\\length\\__init__.py -> build\\lib\\impyrial\\length\n",
      "creating build\\lib\\impyrial\\weight\n",
      "copying impyrial\\weight\\api.py -> build\\lib\\impyrial\\weight\n",
      "copying impyrial\\weight\\core.py -> build\\lib\\impyrial\\weight\n",
      "copying impyrial\\weight\\__init__.py -> build\\lib\\impyrial\\weight\n",
      "installing to build\\bdist.win-amd64\\wheel\n",
      "running install\n",
      "running install_lib\n",
      "creating build\\bdist.win-amd64\n",
      "creating build\\bdist.win-amd64\\wheel\n",
      "creating build\\bdist.win-amd64\\wheel\\impyrial\n",
      "creating build\\bdist.win-amd64\\wheel\\impyrial\\length\n",
      "copying build\\lib\\impyrial\\length\\api.py -> build\\bdist.win-amd64\\wheel\\.\\impyrial\\length\n",
      "copying build\\lib\\impyrial\\length\\core.py -> build\\bdist.win-amd64\\wheel\\.\\impyrial\\length\n",
      "copying build\\lib\\impyrial\\length\\__init__.py -> build\\bdist.win-amd64\\wheel\\.\\impyrial\\length\n",
      "copying build\\lib\\impyrial\\utils.py -> build\\bdist.win-amd64\\wheel\\.\\impyrial\n",
      "creating build\\bdist.win-amd64\\wheel\\impyrial\\weight\n",
      "copying build\\lib\\impyrial\\weight\\api.py -> build\\bdist.win-amd64\\wheel\\.\\impyrial\\weight\n",
      "copying build\\lib\\impyrial\\weight\\core.py -> build\\bdist.win-amd64\\wheel\\.\\impyrial\\weight\n",
      "copying build\\lib\\impyrial\\weight\\__init__.py -> build\\bdist.win-amd64\\wheel\\.\\impyrial\\weight\n",
      "copying build\\lib\\impyrial\\__init__.py -> build\\bdist.win-amd64\\wheel\\.\\impyrial\n",
      "running install_egg_info\n",
      "Copying impyrial.egg-info to build\\bdist.win-amd64\\wheel\\.\\impyrial-0.1.0-py3.9.egg-info\n",
      "running install_scripts\n",
      "creating build\\bdist.win-amd64\\wheel\\impyrial-0.1.0.dist-info\\WHEEL\n",
      "creating 'dist\\impyrial-0.1.0-py3-none-any.whl' and adding 'build\\bdist.win-amd64\\wheel' to it\n",
      "adding 'impyrial/__init__.py'\n",
      "adding 'impyrial/utils.py'\n",
      "adding 'impyrial/length/__init__.py'\n",
      "adding 'impyrial/length/api.py'\n",
      "adding 'impyrial/length/core.py'\n",
      "adding 'impyrial/weight/__init__.py'\n",
      "adding 'impyrial/weight/api.py'\n",
      "adding 'impyrial/weight/core.py'\n",
      "adding 'impyrial-0.1.0.dist-info/LICENSE'\n",
      "adding 'impyrial-0.1.0.dist-info/METADATA'\n",
      "adding 'impyrial-0.1.0.dist-info/WHEEL'\n",
      "adding 'impyrial-0.1.0.dist-info/top_level.txt'\n",
      "adding 'impyrial-0.1.0.dist-info/RECORD'\n",
      "removing build\\bdist.win-amd64\\wheel\n"
     ]
    },
    {
     "name": "stderr",
     "output_type": "stream",
     "text": [
      "C:\\Users\\sacha\\anaconda3\\envs\\py39\\lib\\site-packages\\setuptools\\_distutils\\cmd.py:66: SetuptoolsDeprecationWarning: setup.py install is deprecated.\n",
      "!!\n",
      "\n",
      "        ********************************************************************************\n",
      "        Please avoid running ``setup.py`` directly.\n",
      "        Instead, use pypa/build, pypa/installer or other\n",
      "        standards-based tools.\n",
      "\n",
      "        See https://blog.ganssle.io/articles/2021/10/setup-py-deprecated.html for details.\n",
      "        ********************************************************************************\n",
      "\n",
      "!!\n",
      "  self.initialize_options()\n"
     ]
    }
   ],
   "source": [
    "!python setup.py sdist bdist_wheel"
   ]
  },
  {
   "cell_type": "markdown",
   "id": "46c0897e",
   "metadata": {},
   "source": [
    "### Run the unit tests"
   ]
  },
  {
   "cell_type": "markdown",
   "id": "9be2d2a3",
   "metadata": {},
   "source": [
    "install pytest using:"
   ]
  },
  {
   "cell_type": "raw",
   "id": "e9c804e1",
   "metadata": {},
   "source": [
    "conda install -c anaconda pytest"
   ]
  },
  {
   "cell_type": "code",
   "execution_count": 37,
   "id": "4efe9833",
   "metadata": {},
   "outputs": [
    {
     "name": "stdout",
     "output_type": "stream",
     "text": [
      "\u001b[1m============================= test session starts =============================\u001b[0m\n",
      "platform win32 -- Python 3.9.18, pytest-7.4.0, pluggy-1.0.0\n",
      "rootdir: C:\\Users\\sacha\\python files\\example_package\\impyrial\n",
      "plugins: anyio-3.5.0\n",
      "collected 3 items\n",
      "\n",
      "tests\\length\\test_core.py \u001b[32m.\u001b[0m\u001b[32m                                              [ 33%]\u001b[0m\n",
      "tests\\weight\\test_core.py \u001b[32m.\u001b[0m\u001b[32m.\u001b[0m\u001b[32m                                             [100%]\u001b[0m\n",
      "\n",
      "\u001b[32m============================== \u001b[32m\u001b[1m3 passed\u001b[0m\u001b[32m in 0.17s\u001b[0m\u001b[32m ==============================\u001b[0m\n"
     ]
    }
   ],
   "source": [
    "!pytest"
   ]
  },
  {
   "cell_type": "code",
   "execution_count": 36,
   "id": "f95056c2",
   "metadata": {},
   "outputs": [],
   "source": [
    "#!tree/f"
   ]
  },
  {
   "cell_type": "markdown",
   "id": "e90c688a",
   "metadata": {},
   "source": [
    "### Styling your code PEP8\n",
    "\n",
    "the flake8 package checks your code for styling issues"
   ]
  },
  {
   "cell_type": "raw",
   "id": "87f4b36b",
   "metadata": {},
   "source": [
    "conda install -c anaconda flake8"
   ]
  },
  {
   "cell_type": "code",
   "execution_count": 41,
   "id": "68f15d5e",
   "metadata": {
    "scrolled": true
   },
   "outputs": [
    {
     "name": "stdout",
     "output_type": "stream",
     "text": [
      ".\\build\\lib\\impyrial\\length\\api.py:2:1: F401 'numpy as np' imported but unused\n",
      ".\\build\\lib\\impyrial\\length\\api.py:50:1: W391 blank line at end of file\n",
      ".\\build\\lib\\impyrial\\length\\core.py:51:35: W292 no newline at end of file\n",
      ".\\build\\lib\\impyrial\\weight\\api.py:2:1: F401 'numpy as np' imported but unused\n",
      ".\\build\\lib\\impyrial\\weight\\api.py:48:17: W292 no newline at end of file\n",
      ".\\build\\lib\\impyrial\\weight\\core.py:51:36: W292 no newline at end of file\n",
      ".\\impyrial\\length\\api.py:2:1: F401 'numpy as np' imported but unused\n",
      ".\\impyrial\\length\\api.py:50:1: W391 blank line at end of file\n",
      ".\\impyrial\\length\\core.py:51:35: W292 no newline at end of file\n",
      ".\\impyrial\\weight\\api.py:2:1: F401 'numpy as np' imported but unused\n",
      ".\\impyrial\\weight\\api.py:48:17: W292 no newline at end of file\n",
      ".\\impyrial\\weight\\core.py:51:36: W292 no newline at end of file\n",
      ".\\setup.py:13:69: W291 trailing whitespace\n",
      ".\\setup.py:21:2: W292 no newline at end of file\n"
     ]
    }
   ],
   "source": [
    "!flake8"
   ]
  },
  {
   "cell_type": "markdown",
   "id": "0f8b5125",
   "metadata": {},
   "source": [
    "you can add flags to tell flake8 to ignore specific warnings `# noqa: E741`"
   ]
  },
  {
   "cell_type": "raw",
   "id": "3f58d48d",
   "metadata": {},
   "source": [
    "# ignore style violations without using comments\n",
    "flake8 --ingore E222 <filename>"
   ]
  },
  {
   "cell_type": "raw",
   "id": "d35af23e",
   "metadata": {},
   "source": [
    "# only identify specific violations\n",
    "flake8 --select F401,F841 features.py"
   ]
  },
  {
   "cell_type": "markdown",
   "id": "0d30c848",
   "metadata": {},
   "source": [
    "a `setup.cfg` can be used to configure the flake8 to ignore certain violations"
   ]
  },
  {
   "cell_type": "markdown",
   "id": "c5078ab1",
   "metadata": {},
   "source": [
    "### speeding up package creation\n",
    "\n",
    "In the course quite some files were created manually. This can be handled by a package called `cookiecutter`"
   ]
  },
  {
   "cell_type": "raw",
   "id": "f2e3edc8",
   "metadata": {},
   "source": [
    "conda install -c conda-forge cookiecutter"
   ]
  },
  {
   "cell_type": "markdown",
   "id": "b77fc3ad",
   "metadata": {},
   "source": [
    "create **NOT IN THIS DIRECTORY** a new directory and than execute the following commands"
   ]
  },
  {
   "cell_type": "raw",
   "id": "b56a08ba",
   "metadata": {},
   "source": [
    "cookiecutter https://github.com/audreyfeldroy/cookiecutter-pypackage.git"
   ]
  },
  {
   "cell_type": "markdown",
   "id": "53ab7295",
   "metadata": {},
   "source": [
    "after this a project layout has been created with all files needed to manage your package"
   ]
  },
  {
   "cell_type": "code",
   "execution_count": null,
   "id": "20ba690c",
   "metadata": {},
   "outputs": [],
   "source": []
  }
 ],
 "metadata": {
  "kernelspec": {
   "display_name": "Python 3 (ipykernel)",
   "language": "python",
   "name": "python3"
  },
  "language_info": {
   "codemirror_mode": {
    "name": "ipython",
    "version": 3
   },
   "file_extension": ".py",
   "mimetype": "text/x-python",
   "name": "python",
   "nbconvert_exporter": "python",
   "pygments_lexer": "ipython3",
   "version": "3.9.18"
  }
 },
 "nbformat": 4,
 "nbformat_minor": 5
}
